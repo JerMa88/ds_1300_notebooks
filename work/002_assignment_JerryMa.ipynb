{
 "cells": [
  {
   "cell_type": "markdown",
   "id": "abe84aec",
   "metadata": {},
   "source": [
    "# Assignment: Working with Data"
   ]
  },
  {
   "cell_type": "markdown",
   "id": "9b05eda8",
   "metadata": {},
   "source": [
    "largest population density>Using the data below, answer the following questions:\n",
    "\n",
    ">1) Which entities (top 5) had the largest population density in 2020?\n",
    ">2) Which entities have more water area than land area?\n",
    ">3) Which entities increased in population the most in the last 10 years?\n",
    ">4) What state bird accounts for the largest population as of 2020? Land area?\n",
    ">5) How many entities' largest city is their capital city?\n",
    ">6) Which city has the largest percent drop from their largest city to their 5th largest? 100*(1st largest - 5th largest)/(1st largest)"
   ]
  },
  {
   "cell_type": "code",
   "execution_count": 1,
   "id": "3074452b",
   "metadata": {},
   "outputs": [],
   "source": [
    "import pandas as pd"
   ]
  },
  {
   "cell_type": "code",
   "execution_count": 2,
   "id": "fb7fa8e3",
   "metadata": {},
   "outputs": [
    {
     "data": {
      "text/html": [
       "<div>\n",
       "<style scoped>\n",
       "    .dataframe tbody tr th:only-of-type {\n",
       "        vertical-align: middle;\n",
       "    }\n",
       "\n",
       "    .dataframe tbody tr th {\n",
       "        vertical-align: top;\n",
       "    }\n",
       "\n",
       "    .dataframe thead th {\n",
       "        text-align: right;\n",
       "    }\n",
       "</style>\n",
       "<table border=\"1\" class=\"dataframe\">\n",
       "  <thead>\n",
       "    <tr style=\"text-align: right;\">\n",
       "      <th></th>\n",
       "      <th>State</th>\n",
       "      <th>Area_tot</th>\n",
       "      <th>Area_land</th>\n",
       "      <th>Area_water</th>\n",
       "      <th>Pop_2020</th>\n",
       "      <th>Pop_2010</th>\n",
       "      <th>Rep_seats</th>\n",
       "      <th>State_bird</th>\n",
       "      <th>State_flower</th>\n",
       "      <th>State_motto</th>\n",
       "      <th>...</th>\n",
       "      <th>City_1</th>\n",
       "      <th>city_1_pop</th>\n",
       "      <th>City_2</th>\n",
       "      <th>city_2_pop</th>\n",
       "      <th>City_3</th>\n",
       "      <th>city_3_pop</th>\n",
       "      <th>City_4</th>\n",
       "      <th>city_4_pop</th>\n",
       "      <th>City_5</th>\n",
       "      <th>city_5_pop</th>\n",
       "    </tr>\n",
       "  </thead>\n",
       "  <tbody>\n",
       "    <tr>\n",
       "      <th>0</th>\n",
       "      <td>Alabama</td>\n",
       "      <td>135767</td>\n",
       "      <td>131171</td>\n",
       "      <td>4597</td>\n",
       "      <td>5024279.0</td>\n",
       "      <td>4779736</td>\n",
       "      <td>7</td>\n",
       "      <td>Yellowhammer (Northern flicker)</td>\n",
       "      <td>Camellia</td>\n",
       "      <td>Audemus jura nostra defendere</td>\n",
       "      <td>...</td>\n",
       "      <td>Birmingham</td>\n",
       "      <td>208928</td>\n",
       "      <td>Huntsville</td>\n",
       "      <td>204189.0</td>\n",
       "      <td>Montgomery</td>\n",
       "      <td>198525.0</td>\n",
       "      <td>Mobile</td>\n",
       "      <td>189572.0</td>\n",
       "      <td>Tuscaloosa</td>\n",
       "      <td>101113.0</td>\n",
       "    </tr>\n",
       "    <tr>\n",
       "      <th>1</th>\n",
       "      <td>Alaska</td>\n",
       "      <td>1723337</td>\n",
       "      <td>1477953</td>\n",
       "      <td>245384</td>\n",
       "      <td>733391.0</td>\n",
       "      <td>710231</td>\n",
       "      <td>1</td>\n",
       "      <td>Willow ptarmigan</td>\n",
       "      <td>Forget-me-not</td>\n",
       "      <td>North to the Future</td>\n",
       "      <td>...</td>\n",
       "      <td>Anchorage</td>\n",
       "      <td>291538</td>\n",
       "      <td>Juneau</td>\n",
       "      <td>32113.0</td>\n",
       "      <td>Fairbanks</td>\n",
       "      <td>31516.0</td>\n",
       "      <td>Wasilla</td>\n",
       "      <td>10529.0</td>\n",
       "      <td>Sitka</td>\n",
       "      <td>8647.0</td>\n",
       "    </tr>\n",
       "    <tr>\n",
       "      <th>2</th>\n",
       "      <td>American Samoa</td>\n",
       "      <td>1505</td>\n",
       "      <td>198</td>\n",
       "      <td>1307</td>\n",
       "      <td>49437.0</td>\n",
       "      <td>55519</td>\n",
       "      <td>1*</td>\n",
       "      <td>None</td>\n",
       "      <td>Paogo (Ulafala)</td>\n",
       "      <td>Samoa, Muamua Le Atua</td>\n",
       "      <td>...</td>\n",
       "      <td>Tafuna</td>\n",
       "      <td>7945</td>\n",
       "      <td>Nu'uuli</td>\n",
       "      <td>3955.0</td>\n",
       "      <td>Pago Pago</td>\n",
       "      <td>3656.0</td>\n",
       "      <td>'Ili'ili</td>\n",
       "      <td>3195.0</td>\n",
       "      <td>Pava'ia'i</td>\n",
       "      <td>2450.0</td>\n",
       "    </tr>\n",
       "    <tr>\n",
       "      <th>3</th>\n",
       "      <td>Arizona</td>\n",
       "      <td>295234</td>\n",
       "      <td>294207</td>\n",
       "      <td>1026</td>\n",
       "      <td>7151502.0</td>\n",
       "      <td>6392017</td>\n",
       "      <td>9</td>\n",
       "      <td>Cactus wren</td>\n",
       "      <td>Saguaro cactus blossom</td>\n",
       "      <td>Ditat Deus</td>\n",
       "      <td>...</td>\n",
       "      <td>Phoenix</td>\n",
       "      <td>1680992</td>\n",
       "      <td>Tucson</td>\n",
       "      <td>545975.0</td>\n",
       "      <td>Mesa</td>\n",
       "      <td>508958.0</td>\n",
       "      <td>Chandler</td>\n",
       "      <td>257165.0</td>\n",
       "      <td>Scottsdale</td>\n",
       "      <td>255310.0</td>\n",
       "    </tr>\n",
       "    <tr>\n",
       "      <th>4</th>\n",
       "      <td>Arkansas</td>\n",
       "      <td>137732</td>\n",
       "      <td>134771</td>\n",
       "      <td>2961</td>\n",
       "      <td>3011524.0</td>\n",
       "      <td>2915918</td>\n",
       "      <td>4</td>\n",
       "      <td>Northern mockingbird</td>\n",
       "      <td>Apple blossom</td>\n",
       "      <td>Regnat populus</td>\n",
       "      <td>...</td>\n",
       "      <td>Little Rock</td>\n",
       "      <td>197312</td>\n",
       "      <td>Fort Smith</td>\n",
       "      <td>87845.0</td>\n",
       "      <td>Fayetteville</td>\n",
       "      <td>86751.0</td>\n",
       "      <td>Springdale</td>\n",
       "      <td>81029.0</td>\n",
       "      <td>Jonesboro</td>\n",
       "      <td>76990.0</td>\n",
       "    </tr>\n",
       "  </tbody>\n",
       "</table>\n",
       "<p>5 rows × 26 columns</p>\n",
       "</div>"
      ],
      "text/plain": [
       "              State  Area_tot  Area_land  Area_water   Pop_2020  Pop_2010  \\\n",
       "0          Alabama     135767     131171        4597  5024279.0   4779736   \n",
       "1           Alaska    1723337    1477953      245384   733391.0    710231   \n",
       "2   American Samoa       1505        198        1307    49437.0     55519   \n",
       "3          Arizona     295234     294207        1026  7151502.0   6392017   \n",
       "4         Arkansas     137732     134771        2961  3011524.0   2915918   \n",
       "\n",
       "  Rep_seats                        State_bird             State_flower  \\\n",
       "0         7  Yellowhammer (Northern flicker)                  Camellia   \n",
       "1         1                 Willow ptarmigan            Forget-me-not    \n",
       "2       1*                               None         Paogo (Ulafala)    \n",
       "3         9                      Cactus wren   Saguaro cactus blossom    \n",
       "4         4             Northern mockingbird            Apple blossom    \n",
       "\n",
       "                      State_motto  ...        City_1 city_1_pop       City_2  \\\n",
       "0  Audemus jura nostra defendere   ...   Birmingham      208928  Huntsville    \n",
       "1            North to the Future   ...    Anchorage      291538      Juneau    \n",
       "2          Samoa, Muamua Le Atua   ...       Tafuna        7945     Nu'uuli    \n",
       "3                     Ditat Deus   ...      Phoenix     1680992      Tucson    \n",
       "4                 Regnat populus   ...  Little Rock      197312  Fort Smith    \n",
       "\n",
       "   city_2_pop         City_3  city_3_pop       City_4  city_4_pop  \\\n",
       "0    204189.0    Montgomery     198525.0      Mobile     189572.0   \n",
       "1     32113.0     Fairbanks      31516.0     Wasilla      10529.0   \n",
       "2      3955.0     Pago Pago       3656.0    'Ili'ili       3195.0   \n",
       "3    545975.0          Mesa     508958.0    Chandler     257165.0   \n",
       "4     87845.0  Fayetteville      86751.0  Springdale      81029.0   \n",
       "\n",
       "        City_5  city_5_pop  \n",
       "0  Tuscaloosa     101113.0  \n",
       "1       Sitka       8647.0  \n",
       "2   Pava'ia'i       2450.0  \n",
       "3  Scottsdale     255310.0  \n",
       "4   Jonesboro      76990.0  \n",
       "\n",
       "[5 rows x 26 columns]"
      ]
     },
     "execution_count": 2,
     "metadata": {},
     "output_type": "execute_result"
    }
   ],
   "source": [
    "facts = pd.read_csv('../data/state_facts.tsv',delimiter=\"\\t\")\n",
    "facts.head(5)"
   ]
  },
  {
   "cell_type": "code",
   "execution_count": 3,
   "id": "9e6e48e0-6392-4485-a8cc-790298d85067",
   "metadata": {},
   "outputs": [
    {
     "data": {
      "text/html": [
       "<div>\n",
       "<style scoped>\n",
       "    .dataframe tbody tr th:only-of-type {\n",
       "        vertical-align: middle;\n",
       "    }\n",
       "\n",
       "    .dataframe tbody tr th {\n",
       "        vertical-align: top;\n",
       "    }\n",
       "\n",
       "    .dataframe thead th {\n",
       "        text-align: right;\n",
       "    }\n",
       "</style>\n",
       "<table border=\"1\" class=\"dataframe\">\n",
       "  <thead>\n",
       "    <tr style=\"text-align: right;\">\n",
       "      <th></th>\n",
       "      <th>State</th>\n",
       "      <th>Pop_den</th>\n",
       "      <th>Pop_2020</th>\n",
       "      <th>Area_land</th>\n",
       "    </tr>\n",
       "  </thead>\n",
       "  <tbody>\n",
       "    <tr>\n",
       "      <th>9</th>\n",
       "      <td>District of Columbia</td>\n",
       "      <td>4364.208861</td>\n",
       "      <td>689545.0</td>\n",
       "      <td>158</td>\n",
       "    </tr>\n",
       "    <tr>\n",
       "      <th>32</th>\n",
       "      <td>New Jersey</td>\n",
       "      <td>487.688035</td>\n",
       "      <td>9288994.0</td>\n",
       "      <td>19047</td>\n",
       "    </tr>\n",
       "    <tr>\n",
       "      <th>43</th>\n",
       "      <td>Rhode Island</td>\n",
       "      <td>409.775579</td>\n",
       "      <td>1097379.0</td>\n",
       "      <td>2678</td>\n",
       "    </tr>\n",
       "    <tr>\n",
       "      <th>42</th>\n",
       "      <td>Puerto Rico</td>\n",
       "      <td>370.531574</td>\n",
       "      <td>3285874.0</td>\n",
       "      <td>8868</td>\n",
       "    </tr>\n",
       "    <tr>\n",
       "      <th>23</th>\n",
       "      <td>Massachusetts</td>\n",
       "      <td>347.981239</td>\n",
       "      <td>7029917.0</td>\n",
       "      <td>20202</td>\n",
       "    </tr>\n",
       "  </tbody>\n",
       "</table>\n",
       "</div>"
      ],
      "text/plain": [
       "                     State      Pop_den   Pop_2020  Area_land\n",
       "9    District of Columbia   4364.208861   689545.0        158\n",
       "32             New Jersey    487.688035  9288994.0      19047\n",
       "43           Rhode Island    409.775579  1097379.0       2678\n",
       "42            Puerto Rico    370.531574  3285874.0       8868\n",
       "23          Massachusetts    347.981239  7029917.0      20202"
      ]
     },
     "execution_count": 3,
     "metadata": {},
     "output_type": "execute_result"
    }
   ],
   "source": [
    "facts['Pop_den'] = facts.apply(lambda x: x['Pop_2020']/x['Area_land'], axis=1) #axis=1 each row, axis=0 each column\n",
    "facts[['State','Pop_den','Pop_2020','Area_land']].sort_values(by='Pop_den',ascending=False).head(5)"
   ]
  },
  {
   "cell_type": "code",
   "execution_count": 4,
   "id": "d0c94bc8-f098-46a9-ba6c-81d9a03ffba0",
   "metadata": {},
   "outputs": [
    {
     "data": {
      "text/html": [
       "<div>\n",
       "<style scoped>\n",
       "    .dataframe tbody tr th:only-of-type {\n",
       "        vertical-align: middle;\n",
       "    }\n",
       "\n",
       "    .dataframe tbody tr th {\n",
       "        vertical-align: top;\n",
       "    }\n",
       "\n",
       "    .dataframe thead th {\n",
       "        text-align: right;\n",
       "    }\n",
       "</style>\n",
       "<table border=\"1\" class=\"dataframe\">\n",
       "  <thead>\n",
       "    <tr style=\"text-align: right;\">\n",
       "      <th></th>\n",
       "      <th>State</th>\n",
       "      <th>More_water</th>\n",
       "      <th>Area_water</th>\n",
       "      <th>Area_land</th>\n",
       "    </tr>\n",
       "  </thead>\n",
       "  <tbody>\n",
       "    <tr>\n",
       "      <th>2</th>\n",
       "      <td>American Samoa</td>\n",
       "      <td>True</td>\n",
       "      <td>1307</td>\n",
       "      <td>198</td>\n",
       "    </tr>\n",
       "    <tr>\n",
       "      <th>12</th>\n",
       "      <td>Guam</td>\n",
       "      <td>True</td>\n",
       "      <td>935</td>\n",
       "      <td>543</td>\n",
       "    </tr>\n",
       "    <tr>\n",
       "      <th>37</th>\n",
       "      <td>Northern Mariana Islands</td>\n",
       "      <td>True</td>\n",
       "      <td>4644</td>\n",
       "      <td>472</td>\n",
       "    </tr>\n",
       "    <tr>\n",
       "      <th>48</th>\n",
       "      <td>United States Virgin Islands</td>\n",
       "      <td>True</td>\n",
       "      <td>1550</td>\n",
       "      <td>348</td>\n",
       "    </tr>\n",
       "  </tbody>\n",
       "</table>\n",
       "</div>"
      ],
      "text/plain": [
       "                             State  More_water  Area_water  Area_land\n",
       "2                  American Samoa         True        1307        198\n",
       "12                           Guam         True         935        543\n",
       "37       Northern Mariana Islands         True        4644        472\n",
       "48   United States Virgin Islands         True        1550        348"
      ]
     },
     "execution_count": 4,
     "metadata": {},
     "output_type": "execute_result"
    }
   ],
   "source": [
    "facts['More_water'] = facts.apply(lambda x: x['Area_water'] > x['Area_land'], axis = 1)\n",
    "facts[['State','More_water','Area_water','Area_land']][facts['More_water']]"
   ]
  },
  {
   "cell_type": "code",
   "execution_count": 5,
   "id": "5195135c-121c-4b99-997a-52e20f91830f",
   "metadata": {},
   "outputs": [
    {
     "data": {
      "text/html": [
       "<div>\n",
       "<style scoped>\n",
       "    .dataframe tbody tr th:only-of-type {\n",
       "        vertical-align: middle;\n",
       "    }\n",
       "\n",
       "    .dataframe tbody tr th {\n",
       "        vertical-align: top;\n",
       "    }\n",
       "\n",
       "    .dataframe thead th {\n",
       "        text-align: right;\n",
       "    }\n",
       "</style>\n",
       "<table border=\"1\" class=\"dataframe\">\n",
       "  <thead>\n",
       "    <tr style=\"text-align: right;\">\n",
       "      <th></th>\n",
       "      <th>State</th>\n",
       "      <th>Pop_increase</th>\n",
       "      <th>Pop_2020</th>\n",
       "      <th>Pop_2010</th>\n",
       "    </tr>\n",
       "  </thead>\n",
       "  <tbody>\n",
       "    <tr>\n",
       "      <th>47</th>\n",
       "      <td>Texas</td>\n",
       "      <td>3999944.0</td>\n",
       "      <td>29145505.0</td>\n",
       "      <td>25145561</td>\n",
       "    </tr>\n",
       "  </tbody>\n",
       "</table>\n",
       "</div>"
      ],
      "text/plain": [
       "      State  Pop_increase    Pop_2020  Pop_2010\n",
       "47   Texas      3999944.0  29145505.0  25145561"
      ]
     },
     "execution_count": 5,
     "metadata": {},
     "output_type": "execute_result"
    }
   ],
   "source": [
    "facts['Pop_increase'] = facts.apply(lambda x: x['Pop_2020'] - x['Pop_2010'], axis = 1)\n",
    "facts[['State','Pop_increase','Pop_2020','Pop_2010']].sort_values(by='Pop_increase',ascending=False).head(1)"
   ]
  },
  {
   "cell_type": "code",
   "execution_count": 6,
   "id": "48ae198b-2322-4b9f-aaa4-92a597014dd6",
   "metadata": {},
   "outputs": [
    {
     "data": {
      "text/plain": [
       "5    California quail \n",
       "Name: State_bird, dtype: object"
      ]
     },
     "execution_count": 6,
     "metadata": {},
     "output_type": "execute_result"
    }
   ],
   "source": [
    "facts['State_bird'][facts['Pop_2020'] == facts['Pop_2020'].max()]"
   ]
  },
  {
   "cell_type": "code",
   "execution_count": 7,
   "id": "af1651e4-ab98-448e-9bbc-a2059dfa8727",
   "metadata": {},
   "outputs": [
    {
     "data": {
      "text/plain": [
       "1    Willow ptarmigan \n",
       "Name: State_bird, dtype: object"
      ]
     },
     "execution_count": 7,
     "metadata": {},
     "output_type": "execute_result"
    }
   ],
   "source": [
    "facts['State_bird'][facts['Area_land'] == facts['Area_land'].max()]"
   ]
  },
  {
   "cell_type": "code",
   "execution_count": 8,
   "id": "bc7ce35e-40e0-4ef1-a43b-d418a11fe363",
   "metadata": {},
   "outputs": [
    {
     "data": {
      "text/plain": [
       "21"
      ]
     },
     "execution_count": 8,
     "metadata": {},
     "output_type": "execute_result"
    }
   ],
   "source": [
    "facts['State'][facts['Capital_pop'] == facts['city_1_pop']].count()"
   ]
  },
  {
   "cell_type": "code",
   "execution_count": 9,
   "id": "6baa8f0b-be59-4dc2-b3dc-54bf7c604186",
   "metadata": {},
   "outputs": [
    {
     "data": {
      "text/plain": [
       "34    New York City \n",
       "Name: City_1, dtype: object"
      ]
     },
     "execution_count": 9,
     "metadata": {},
     "output_type": "execute_result"
    }
   ],
   "source": [
    "facts['Perc_drop'] = facts.apply(lambda x: 100 * (x['city_1_pop'] - x['city_5_pop']) / x['city_1_pop'], axis = 1) #100*(1st largest - 5th largest)/(1st largest)\n",
    "facts['City_1'][facts['Perc_drop'] == facts['Perc_drop'].max()]"
   ]
  },
  {
   "cell_type": "markdown",
   "id": "dea43f97",
   "metadata": {},
   "source": [
    ">Using the \"state_dates.tsv\" data, answer the remaining questions. You will need to merge the two data sets together:\n",
    "\n",
    ">7) Of the states that joined the United States before 1790, what is the most common state flower?\n",
    ">8) Which has the larger population density, the most dense US Territory or the least dense state?\n",
    ">9) Make a graph that plots the populations of the largest city in each entity in the order in which they joined the US. Make the bars black\n",
    ">10) Make two additional graphs like the one above but one for land area (green bars) and one for water area (blue bars)"
   ]
  },
  {
   "cell_type": "markdown",
   "id": "00317034",
   "metadata": {},
   "source": [
    "Hint: `pd.read_csv('../data/state_dates.tsv',delimiter=\"\\t\")`\n",
    "\n",
    "Hint: You likely want to convert the Date column to datetime. You might have to correct errors in the data as well.\n",
    "\n",
    "Hint: `states['Date']<pd.datetime(1790,1,1)`\n",
    "\n",
    "Hint: `pd.merge(****,****,left_on='USPS_code',right_on='Abbreviation',how='outer')`"
   ]
  },
  {
   "cell_type": "code",
   "execution_count": 10,
   "id": "8ad0f8bf-7117-4e78-bf25-3bdab04bf829",
   "metadata": {},
   "outputs": [],
   "source": [
    "dates = pd.read_csv('../data/state_dates.tsv',delimiter=\"\\t\")\n",
    "dates['Date_Fixed'] = pd.to_datetime(dates['Date'],errors='raise')\n",
    "merged = pd.merge(facts, dates, left_on='USPS_code',right_on='Abbreviation',how='outer').drop(columns=['Name'])\n",
    "#dates[['Date','Date_Fixed']]\n",
    "#merged"
   ]
  },
  {
   "cell_type": "code",
   "execution_count": 11,
   "id": "bbedc21c-7fd3-4dcc-a704-a46e35e4ac7b",
   "metadata": {},
   "outputs": [
    {
     "name": "stderr",
     "output_type": "stream",
     "text": [
      "/tmp/ipykernel_1377284/1774539991.py:1: FutureWarning: The pandas.datetime class is deprecated and will be removed from pandas in a future version. Import from datetime module instead.\n",
      "  colony = merged[merged['Date_Fixed'] < pd.datetime(1790,1,1)]\n"
     ]
    },
    {
     "data": {
      "text/plain": [
       "Mountain laurel    2\n",
       "Name: State_flower, dtype: int64"
      ]
     },
     "execution_count": 11,
     "metadata": {},
     "output_type": "execute_result"
    }
   ],
   "source": [
    "colony = merged[merged['Date_Fixed'] < pd.datetime(1790,1,1)]\n",
    "\n",
    "common_flower = colony['State_flower'].value_counts()[:1]\n",
    "common_flower"
   ]
  },
  {
   "cell_type": "code",
   "execution_count": 12,
   "id": "85e623dc-cbe2-4932-84f2-cf95cd9c5826",
   "metadata": {},
   "outputs": [
    {
     "name": "stdout",
     "output_type": "stream",
     "text": [
      "The most dense US Territory has the larger population density.\n"
     ]
    }
   ],
   "source": [
    "most_dense_t_pop_den = facts['Pop_den'][merged['Status'] == 'Territory'].max()\n",
    "\n",
    "least_dense_s_pop_den = facts['Pop_den'][merged['Status'] != 'Territory'].min()\n",
    "\n",
    "if (most_dense_t_pop_den > least_dense_s_pop_den): print('The most dense US Territory has the larger population density.')\n",
    "else: print('The least dense state has the larger population density.')"
   ]
  },
  {
   "cell_type": "code",
   "execution_count": 13,
   "id": "fcd29b7b",
   "metadata": {},
   "outputs": [
    {
     "data": {
      "image/png": "[encoded data removed]",
      "text/plain": [
       "<Figure size 720x288 with 1 Axes>"
      ]
     },
     "metadata": {
      "image/png": {
       "height": 269,
       "width": 585
      },
      "needs_background": "light"
     },
     "output_type": "display_data"
    }
   ],
   "source": [
    "import matplotlib as plt\n",
    "%config InlineBackend.figure_format ='retina' #This makes your plot clearer\n",
    "\n",
    "plot = merged.sort_values(by='Date_Fixed',ascending=True)[['city_1_pop','Abbreviation']].plot(kind='bar',figsize=(10,4), color = 'k')\n",
    "plot.set_xticklabels(merged.sort_values(by='Date_Fixed',ascending=True)['Abbreviation']);"
   ]
  },
  {
   "cell_type": "code",
   "execution_count": 14,
   "id": "ca29e073-55a9-42b6-915c-b2dbe04bf02d",
   "metadata": {},
   "outputs": [
    {
     "data": {
      "image/png": "[encoded data removed]",
      "text/plain": [
       "<Figure size 720x288 with 1 Axes>"
      ]
     },
     "metadata": {
      "image/png": {
       "height": 269,
       "width": 595
      },
      "needs_background": "light"
     },
     "output_type": "display_data"
    }
   ],
   "source": [
    "plot = merged[['Area_land','Abbreviation']].plot(kind='bar',figsize=(10,4), color = 'green')\n",
    "plot.set_xticklabels(merged['Abbreviation']);"
   ]
  },
  {
   "cell_type": "code",
   "execution_count": 15,
   "id": "3a25d2e5",
   "metadata": {},
   "outputs": [
    {
     "data": {
      "image/png": "[encoded data removed]",
      "text/plain": [
       "<Figure size 720x288 with 1 Axes>"
      ]
     },
     "metadata": {
      "image/png": {
       "height": 258,
       "width": 617
      },
      "needs_background": "light"
     },
     "output_type": "display_data"
    }
   ],
   "source": [
    "plot = merged[['Area_water','Abbreviation']].plot(kind='bar',figsize=(10,4), color = 'blue')\n",
    "plot.set_xticklabels(merged['Abbreviation']);"
   ]
  },
  {
   "cell_type": "code",
   "execution_count": null,
   "id": "87bcd785-b31e-4e21-a98c-d57a6f30332a",
   "metadata": {},
   "outputs": [],
   "source": []
  }
 ],
 "metadata": {
  "jupytext": {
   "formats": "ipynb"
  },
  "kernelspec": {
   "display_name": "Python 3 (ipykernel)",
   "language": "python",
   "name": "python3"
  },
  "language_info": {
   "codemirror_mode": {
    "name": "ipython",
    "version": 3
   },
   "file_extension": ".py",
   "mimetype": "text/x-python",
   "name": "python",
   "nbconvert_exporter": "python",
   "pygments_lexer": "ipython3",
   "version": "3.9.12"
  }
 },
 "nbformat": 4,
 "nbformat_minor": 5
}
