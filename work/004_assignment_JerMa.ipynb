{
 "cells": [
  {
   "cell_type": "markdown",
   "id": "ecb4ebca",
   "metadata": {},
   "source": [
    "# Data Visualization"
   ]
  },
  {
   "cell_type": "markdown",
   "id": "0c3da741",
   "metadata": {},
   "source": [
    "Select a dataset we have used in class (or outside of class).\n",
    "\n",
    "Generate a plot that you feel visualizes the data is an interesting way. Your plot should have the following elements:\n",
    "\n",
    ">1) Title\n",
    ">2) Legend\n",
    ">3) Axes or other Labels\n",
    ">4) Color\n",
    ">5) 1 sentence description of what your plot shows\n",
    ">6) Brief description of why you chose to make the plot the way you did.\n",
    "\n",
    "You may use pandas, matplotlib, or seaborn.\n",
    "\n",
    "Upload a pdf of the plot to Canvas."
   ]
  },
  {
   "cell_type": "code",
   "execution_count": 2,
   "id": "cf94f800-0b65-45bd-9377-af051cbd0440",
   "metadata": {
    "tags": []
   },
   "outputs": [],
   "source": [
    "import pandas as pd\n",
    "import matplotlib.pyplot as plt\n",
    "\n",
    "dialogue = pd.read_csv(\"../data/marvel-dialogue-nlp/data/mcu.csv\")\n",
    "oscar = pd.read_csv(\"../data/the_oscar_award.csv\")\n",
    "dialogue = pd.DataFrame(dialogue, columns=['character', 'line', 'movie', 'year'])\n"
   ]
  },
  {
   "cell_type": "code",
   "execution_count": 6,
   "id": "02b819fe-b1a4-484e-8646-b5b49787d477",
   "metadata": {},
   "outputs": [],
   "source": [
    "actchar_map = {'OBADIAH STANE': 'Jeff Bridges as OBADIAH STANE',\n",
    " 'PEPPER POTTS': 'Gwyneth Paltrow as PEPPER POTTS',\n",
    " 'SECRETARY ROSS': 'William Hurt as SECRETARY ROSS',\n",
    " 'JUSTIN HAMMER': 'Sam Rockwell as JUSTIN HAMMER',\n",
    " 'JANE FOSTER': 'Natalie Portman as JANE FOSTER',\n",
    " 'ODIN': 'Anthony Hopkins as ODIN',\n",
    " 'COL. CHESTER PHILLIPS': 'Tommy Lee Jones as COL. CHESTER PHILLIPS',\n",
    " 'THE MANDARIN': 'Ben Kingsley as THE MANDARIN',\n",
    " 'ALEXANDER PIERCE': 'Robert Redford as ALEXANDER PIERCE',\n",
    " 'THE COLLECTOR': 'Benicio del Toro as THE COLLECTOR',\n",
    " 'HANK PYM': 'Michael Douglas as HANK PYM',\n",
    " 'MAY PARKER': 'Marisa Tomei as MAY PARKER',\n",
    " 'ANCIENT ONE': 'Tilda Swinton as ANCIENT ONE',\n",
    " 'KAREN': 'Jennifer Connelly as KAREN',\n",
    " 'HELA': 'Cate Blanchett as HELA',\n",
    " 'ACTOR LOKI': 'Matt Damon as ACTOR LOKI',\n",
    " 'KORG': 'Taika Waititi as KORG',\n",
    " 'ZURI': 'Forest Whitaker as ZURI',\n",
    " 'NAKIA': 'Lupita Nyong’o as NAKIA',\n",
    " \"W'KABI\": \"Daniel Kaluuya as W'KABI\",\n",
    " 'CAROL DANVERS': 'Brie Larson as CAROL DANVERS'}"
   ]
  },
  {
   "cell_type": "code",
   "execution_count": 13,
   "id": "5812a6f0-fb13-4699-8030-d9be9c97af7f",
   "metadata": {},
   "outputs": [],
   "source": [
    "oscar_map = {\n",
    "'OBADIAH STANE': 2017,\n",
    " 'ALEXANDER PIERCE': 1995,\n",
    " 'THE MANDARIN': 2004,\n",
    " None: 2019,\n",
    " 'SECRETARY ROSS': 2006,\n",
    " 'HANK PYM': 1988,\n",
    " 'ODIN': 2020,\n",
    " 'COL. CHESTER PHILLIPS': 2013,\n",
    " 'MAY PARKER': 2009,\n",
    " 'ACTOR LOKI': 2016,\n",
    " 'HELA': 2016,\n",
    " 'PEPPER POTTS': 1999,\n",
    " 'KAREN': 2002,\n",
    " 'JANE FOSTER': 2017,\n",
    " 'ZURI': 2007,\n",
    " 'ANCIENT ONE': 2008,\n",
    " 'CAROL DANVERS': 2016,\n",
    " \"W'KABI\": 2018,\n",
    " 'JUSTIN HAMMER': 2019\n",
    "}"
   ]
  },
  {
   "cell_type": "code",
   "execution_count": 14,
   "id": "8014c6dd-2f25-4843-8792-cb5e1f51ed4d",
   "metadata": {},
   "outputs": [
    {
     "data": {
      "text/html": [
       "<div>\n",
       "<style scoped>\n",
       "    .dataframe tbody tr th:only-of-type {\n",
       "        vertical-align: middle;\n",
       "    }\n",
       "\n",
       "    .dataframe tbody tr th {\n",
       "        vertical-align: top;\n",
       "    }\n",
       "\n",
       "    .dataframe thead th {\n",
       "        text-align: right;\n",
       "    }\n",
       "</style>\n",
       "<table border=\"1\" class=\"dataframe\">\n",
       "  <thead>\n",
       "    <tr style=\"text-align: right;\">\n",
       "      <th></th>\n",
       "      <th>character</th>\n",
       "      <th>line</th>\n",
       "      <th>movie</th>\n",
       "      <th>year</th>\n",
       "      <th>after_oscar</th>\n",
       "    </tr>\n",
       "  </thead>\n",
       "  <tbody>\n",
       "    <tr>\n",
       "      <th>35</th>\n",
       "      <td>PEPPER POTTS</td>\n",
       "      <td>Tony, it’s the President.  Wants to congratula...</td>\n",
       "      <td>Iron Man</td>\n",
       "      <td>2008</td>\n",
       "      <td>True</td>\n",
       "    </tr>\n",
       "    <tr>\n",
       "      <th>37</th>\n",
       "      <td>PEPPER POTTS</td>\n",
       "      <td>You’re leaving the country for a week.  I need...</td>\n",
       "      <td>Iron Man</td>\n",
       "      <td>2008</td>\n",
       "      <td>True</td>\n",
       "    </tr>\n",
       "    <tr>\n",
       "      <th>39</th>\n",
       "      <td>PEPPER POTTS</td>\n",
       "      <td>The Board meeting is on the eleventh.  Should ...</td>\n",
       "      <td>Iron Man</td>\n",
       "      <td>2008</td>\n",
       "      <td>True</td>\n",
       "    </tr>\n",
       "    <tr>\n",
       "      <th>58</th>\n",
       "      <td>PEPPER POTTS</td>\n",
       "      <td>Don’t worry, that’s Jarvis -- he runs the hous...</td>\n",
       "      <td>Iron Man</td>\n",
       "      <td>2008</td>\n",
       "      <td>True</td>\n",
       "    </tr>\n",
       "    <tr>\n",
       "      <th>60</th>\n",
       "      <td>PEPPER POTTS</td>\n",
       "      <td>Cab’s waiting outside.</td>\n",
       "      <td>Iron Man</td>\n",
       "      <td>2008</td>\n",
       "      <td>True</td>\n",
       "    </tr>\n",
       "    <tr>\n",
       "      <th>...</th>\n",
       "      <td>...</td>\n",
       "      <td>...</td>\n",
       "      <td>...</td>\n",
       "      <td>...</td>\n",
       "      <td>...</td>\n",
       "    </tr>\n",
       "    <tr>\n",
       "      <th>15627</th>\n",
       "      <td>PEPPER POTTS</td>\n",
       "      <td>Hang on, kid.  I’ve got you.</td>\n",
       "      <td>Avengers: Endgame</td>\n",
       "      <td>2019</td>\n",
       "      <td>True</td>\n",
       "    </tr>\n",
       "    <tr>\n",
       "      <th>15636</th>\n",
       "      <td>CAROL DANVERS</td>\n",
       "      <td>Roger...Rogers...</td>\n",
       "      <td>Avengers: Endgame</td>\n",
       "      <td>2019</td>\n",
       "      <td>True</td>\n",
       "    </tr>\n",
       "    <tr>\n",
       "      <th>15639</th>\n",
       "      <td>CAROL DANVERS</td>\n",
       "      <td>Hey, Peter Parker.  You got something for me?</td>\n",
       "      <td>Avengers: Endgame</td>\n",
       "      <td>2019</td>\n",
       "      <td>True</td>\n",
       "    </tr>\n",
       "    <tr>\n",
       "      <th>15648</th>\n",
       "      <td>PEPPER POTTS</td>\n",
       "      <td>Hey, Friday, what’ve we got?</td>\n",
       "      <td>Avengers: Endgame</td>\n",
       "      <td>2019</td>\n",
       "      <td>True</td>\n",
       "    </tr>\n",
       "    <tr>\n",
       "      <th>15650</th>\n",
       "      <td>PEPPER POTTS</td>\n",
       "      <td>Tony, look at me.  We’re going to be okay... Y...</td>\n",
       "      <td>Avengers: Endgame</td>\n",
       "      <td>2019</td>\n",
       "      <td>True</td>\n",
       "    </tr>\n",
       "  </tbody>\n",
       "</table>\n",
       "<p>1116 rows × 5 columns</p>\n",
       "</div>"
      ],
      "text/plain": [
       "           character                                               line  \\\n",
       "35      PEPPER POTTS  Tony, it’s the President.  Wants to congratula...   \n",
       "37      PEPPER POTTS  You’re leaving the country for a week.  I need...   \n",
       "39      PEPPER POTTS  The Board meeting is on the eleventh.  Should ...   \n",
       "58      PEPPER POTTS  Don’t worry, that’s Jarvis -- he runs the hous...   \n",
       "60      PEPPER POTTS                             Cab’s waiting outside.   \n",
       "...              ...                                                ...   \n",
       "15627   PEPPER POTTS                       Hang on, kid.  I’ve got you.   \n",
       "15636  CAROL DANVERS                                  Roger...Rogers...   \n",
       "15639  CAROL DANVERS      Hey, Peter Parker.  You got something for me?   \n",
       "15648   PEPPER POTTS                      Hey, Friday, what’ve we got?    \n",
       "15650   PEPPER POTTS  Tony, look at me.  We’re going to be okay... Y...   \n",
       "\n",
       "                   movie  year  after_oscar  \n",
       "35              Iron Man  2008         True  \n",
       "37              Iron Man  2008         True  \n",
       "39              Iron Man  2008         True  \n",
       "58              Iron Man  2008         True  \n",
       "60              Iron Man  2008         True  \n",
       "...                  ...   ...          ...  \n",
       "15627  Avengers: Endgame  2019         True  \n",
       "15636  Avengers: Endgame  2019         True  \n",
       "15639  Avengers: Endgame  2019         True  \n",
       "15648  Avengers: Endgame  2019         True  \n",
       "15650  Avengers: Endgame  2019         True  \n",
       "\n",
       "[1116 rows x 5 columns]"
      ]
     },
     "execution_count": 14,
     "metadata": {},
     "output_type": "execute_result"
    }
   ],
   "source": [
    "def check_after_oscar(row):\n",
    "    character = row['character']\n",
    "    year = row['year']\n",
    "    \n",
    "    if character in oscar_map and oscar_map[character] < year:\n",
    "        return True\n",
    "    else:\n",
    "        return False\n",
    "\n",
    "# Assuming your DataFrame is named 'dialogue'\n",
    "dialogue['after_oscar'] = dialogue.apply(check_after_oscar, axis=1)\n",
    "\n",
    "dialogue[dialogue['after_oscar'] == True]"
   ]
  },
  {
   "cell_type": "code",
   "execution_count": 16,
   "id": "00314bf8-381d-4d13-a6eb-4a7a9c0b8e1a",
   "metadata": {},
   "outputs": [],
   "source": [
    "dialogue['role'] = dialogue['character'].map(actchar_map.get)\n"
   ]
  },
  {
   "cell_type": "code",
   "execution_count": 17,
   "id": "e4ab5f25-e49c-47f2-8d5d-2c4497f3bbaf",
   "metadata": {
    "tags": []
   },
   "outputs": [
    {
     "data": {
      "text/plain": [
       "{'Gwyneth Paltrow as PEPPER POTTS': {'role': 442},\n",
       " 'Brie Larson as CAROL DANVERS': {'role': 234},\n",
       " 'Michael Douglas as HANK PYM': {'role': 146},\n",
       " 'Jennifer Connelly as KAREN': {'role': 67},\n",
       " 'Robert Redford as ALEXANDER PIERCE': {'role': 60},\n",
       " 'Marisa Tomei as MAY PARKER': {'role': 45},\n",
       " 'Cate Blanchett as HELA': {'role': 32},\n",
       " 'William Hurt as SECRETARY ROSS': {'role': 24},\n",
       " 'Forest Whitaker as ZURI': {'role': 21},\n",
       " 'Ben Kingsley as THE MANDARIN': {'role': 16},\n",
       " 'Tilda Swinton as ANCIENT ONE': {'role': 16},\n",
       " 'Matt Damon as ACTOR LOKI': {'role': 11},\n",
       " 'Natalie Portman as JANE FOSTER': {'role': 2}}"
      ]
     },
     "execution_count": 17,
     "metadata": {},
     "output_type": "execute_result"
    }
   ],
   "source": [
    "owd = pd.DataFrame(columns=['role', 'before_oscar', 'after_oscar'])\n",
    "actchar_df = pd.DataFrame(actchar_map.items(), columns=['role', 'actor'])\n",
    "owd = pd.concat([owd, actchar_df], ignore_index=True)\n",
    "\n",
    "lines_before_oscar = dialogue[dialogue['after_oscar'] == False]\n",
    "boc_dict = pd.DataFrame(lines_before_oscar['role'].value_counts()).to_dict('index')\n",
    "\n",
    "lines_after_oscar = dialogue[dialogue['after_oscar'] == True]\n",
    "aoc_dict = pd.DataFrame(lines_after_oscar['role'].value_counts()).to_dict('index')\n",
    "\n",
    "\n",
    "aoc_dict"
   ]
  },
  {
   "cell_type": "code",
   "execution_count": 18,
   "id": "a45e0762-6166-4812-9d76-ed8f34205a10",
   "metadata": {},
   "outputs": [],
   "source": [
    "def get_count(s, d):\n",
    "    if s in d.keys():\n",
    "        return d[s]['role']\n",
    "    else:\n",
    "        return 0"
   ]
  },
  {
   "cell_type": "code",
   "execution_count": 19,
   "id": "e80687be-604e-4db6-a2be-0455c060edc2",
   "metadata": {
    "tags": []
   },
   "outputs": [],
   "source": [
    "owd['before_oscar'] = owd['actor'].apply(lambda x: get_count(x, boc_dict))\n",
    "owd['after_oscar'] = owd['actor'].apply(lambda x: get_count(x, aoc_dict))"
   ]
  },
  {
   "cell_type": "code",
   "execution_count": 20,
   "id": "b789677c-1578-43a0-b513-8060a8428683",
   "metadata": {},
   "outputs": [],
   "source": [
    "owd['sum_oscar'] = owd.before_oscar + owd.after_oscar"
   ]
  },
  {
   "cell_type": "code",
   "execution_count": 21,
   "id": "db229d24-1a32-4dd4-a512-3dbe9722efce",
   "metadata": {},
   "outputs": [],
   "source": [
    "owd = owd.sort_values(by='sum_oscar', ascending=False)"
   ]
  },
  {
   "cell_type": "code",
   "execution_count": 39,
   "id": "f46b67db-6941-45f7-b73d-4b43098fb7b5",
   "metadata": {},
   "outputs": [
    {
     "data": {
      "image/png": "[encoded data removed]",
      "text/plain": [
       "<Figure size 864x432 with 1 Axes>"
      ]
     },
     "metadata": {
      "needs_background": "light"
     },
     "output_type": "display_data"
    }
   ],
   "source": [
    "plot = owd[['actor','before_oscar',\"after_oscar\"]].plot(stacked=True,kind='bar',figsize=(12,6))\n",
    "plot.set_xticklabels(owd['actor']);\n",
    "plt.xlabel('Character')\n",
    "plt.ylabel('Number of Lines')\n",
    "plt.title('Number of Lines per Character which Actor/Actress Currently Has an Oscar')\n",
    "plt.legend()\n",
    "plot.figure.savefig('Oscar_MCU.pdf',bbox_inches=\"tight\")\n",
    "plt.show()\n"
   ]
  },
  {
   "cell_type": "code",
   "execution_count": 31,
   "id": "bb5b9a6b-82e5-426e-993e-642f81099b45",
   "metadata": {},
   "outputs": [
    {
     "name": "stdout",
     "output_type": "stream",
     "text": [
      "My plot shows how many lines each Oscar-winning MCU characters has said in the entire MCU dialogue.\n"
     ]
    }
   ],
   "source": [
    "#5. 1 sentence description of what your plot shows\n",
    "print(\"My plot shows how many lines each Oscar-winning MCU characters has said in the entire MCU dialogue.\")"
   ]
  },
  {
   "cell_type": "code",
   "execution_count": 33,
   "id": "76df3567-f56b-440e-9160-a1c3bf68026c",
   "metadata": {},
   "outputs": [
    {
     "name": "stdout",
     "output_type": "stream",
     "text": [
      "I chose a stacked graph so I can represent number of lines before and after an actor/actress has won an Oscar.The blue lengend in the stacked graph represent lines said by a actor/actress before winning an Oscar; orange represent after.\n"
     ]
    }
   ],
   "source": [
    "#6. Brief description of why you chose to make the plot the way you did.\n",
    "print(\"I chose a stacked graph so I can represent number of lines before and after an actor/actress has won an Oscar.\"\n",
    "      \"The blue lengend in the stacked graph represent lines said by a actor/actress before winning an Oscar; orange represent after.\")"
   ]
  },
  {
   "cell_type": "code",
   "execution_count": null,
   "id": "921ee522-56a8-42d5-95dc-2995a9bf013a",
   "metadata": {},
   "outputs": [],
   "source": []
  }
 ],
 "metadata": {
  "jupytext": {
   "formats": "ipynb"
  },
  "kernelspec": {
   "display_name": "Python 3 (ipykernel)",
   "language": "python",
   "name": "python3"
  },
  "language_info": {
   "codemirror_mode": {
    "name": "ipython",
    "version": 3
   },
   "file_extension": ".py",
   "mimetype": "text/x-python",
   "name": "python",
   "nbconvert_exporter": "python",
   "pygments_lexer": "ipython3",
   "version": "3.9.12"
  }
 },
 "nbformat": 4,
 "nbformat_minor": 5
}
